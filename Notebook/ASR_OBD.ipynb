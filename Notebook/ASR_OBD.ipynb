{
  "nbformat": 4,
  "nbformat_minor": 0,
  "metadata": {
    "colab": {
      "provenance": []
    },
    "kernelspec": {
      "name": "python3",
      "display_name": "Python 3"
    },
    "language_info": {
      "name": "python"
    }
  },
  "cells": [
    {
      "cell_type": "markdown",
      "source": [
        "# Object Detection and Audio Transcription Using Whisper and YOLOv5 With German\n",
        "\n",
        "This notebook demonstrates how to perform object detection in images and audio transcription using the Whisper model and the YOLOv5 model using German language. We will upload an audio file in German and an image file, and the system will transcribe the audio to text and detect objects in the image based on the transcribed text.\n",
        "\n",
        "----\n",
        "\n",
        "\n"
      ],
      "metadata": {
        "id": "ZvqoRUeG3Z97"
      }
    },
    {
      "cell_type": "markdown",
      "source": [
        "## Setup\n",
        "### Install Required Libraries\n",
        "\n",
        "Make sure you have the necessary libraries installed in your Google Colab environment.\n",
        "\n",
        "```python\n",
        "# Install necessary packages\n",
        "!pip install torch torchvision torchaudio\n",
        "!pip install git+https://github.com/openai/whisper.git\n",
        "!pip install opencv-python-headless\n",
        "!pip install -U -r https://raw.githubusercontent.com/ultralytics/yolov5/master/requirements.txt\n",
        "```"
      ],
      "metadata": {
        "id": "-oiMNpOp3_Nv"
      }
    },
    {
      "cell_type": "code",
      "source": [
        "!pip install torch torchvision torchaudio\n",
        "!pip install git+https://github.com/openai/whisper.git\n",
        "!pip install opencv-python-headless"
      ],
      "metadata": {
        "colab": {
          "base_uri": "https://localhost:8080/"
        },
        "id": "yqECni3X4Hkn",
        "outputId": "efa1de39-9e75-4f94-90c7-b3352b76e705",
        "collapsed": true
      },
      "execution_count": null,
      "outputs": [
        {
          "output_type": "stream",
          "name": "stdout",
          "text": [
            "Requirement already satisfied: torch in /usr/local/lib/python3.10/dist-packages (2.4.1+cu121)\n",
            "Requirement already satisfied: torchvision in /usr/local/lib/python3.10/dist-packages (0.19.1+cu121)\n",
            "Requirement already satisfied: torchaudio in /usr/local/lib/python3.10/dist-packages (2.4.1+cu121)\n",
            "Requirement already satisfied: filelock in /usr/local/lib/python3.10/dist-packages (from torch) (3.16.1)\n",
            "Requirement already satisfied: typing-extensions>=4.8.0 in /usr/local/lib/python3.10/dist-packages (from torch) (4.12.2)\n",
            "Requirement already satisfied: sympy in /usr/local/lib/python3.10/dist-packages (from torch) (1.13.3)\n",
            "Requirement already satisfied: networkx in /usr/local/lib/python3.10/dist-packages (from torch) (3.3)\n",
            "Requirement already satisfied: jinja2 in /usr/local/lib/python3.10/dist-packages (from torch) (3.1.4)\n",
            "Requirement already satisfied: fsspec in /usr/local/lib/python3.10/dist-packages (from torch) (2024.6.1)\n",
            "Requirement already satisfied: numpy in /usr/local/lib/python3.10/dist-packages (from torchvision) (1.26.4)\n",
            "Requirement already satisfied: pillow!=8.3.*,>=5.3.0 in /usr/local/lib/python3.10/dist-packages (from torchvision) (10.4.0)\n",
            "Requirement already satisfied: MarkupSafe>=2.0 in /usr/local/lib/python3.10/dist-packages (from jinja2->torch) (2.1.5)\n",
            "Requirement already satisfied: mpmath<1.4,>=1.1.0 in /usr/local/lib/python3.10/dist-packages (from sympy->torch) (1.3.0)\n",
            "Collecting git+https://github.com/openai/whisper.git\n",
            "  Cloning https://github.com/openai/whisper.git to /tmp/pip-req-build-r_ixgyil\n",
            "  Running command git clone --filter=blob:none --quiet https://github.com/openai/whisper.git /tmp/pip-req-build-r_ixgyil\n",
            "  Resolved https://github.com/openai/whisper.git to commit 25639fc17ddc013d56c594bfbf7644f2185fad84\n",
            "  Installing build dependencies ... \u001b[?25l\u001b[?25hdone\n",
            "  Getting requirements to build wheel ... \u001b[?25l\u001b[?25hdone\n",
            "  Preparing metadata (pyproject.toml) ... \u001b[?25l\u001b[?25hdone\n",
            "Requirement already satisfied: numba in /usr/local/lib/python3.10/dist-packages (from openai-whisper==20240930) (0.60.0)\n",
            "Requirement already satisfied: numpy in /usr/local/lib/python3.10/dist-packages (from openai-whisper==20240930) (1.26.4)\n",
            "Requirement already satisfied: torch in /usr/local/lib/python3.10/dist-packages (from openai-whisper==20240930) (2.4.1+cu121)\n",
            "Requirement already satisfied: tqdm in /usr/local/lib/python3.10/dist-packages (from openai-whisper==20240930) (4.66.5)\n",
            "Requirement already satisfied: more-itertools in /usr/local/lib/python3.10/dist-packages (from openai-whisper==20240930) (10.5.0)\n",
            "Collecting tiktoken (from openai-whisper==20240930)\n",
            "  Downloading tiktoken-0.8.0-cp310-cp310-manylinux_2_17_x86_64.manylinux2014_x86_64.whl.metadata (6.6 kB)\n",
            "Collecting triton>=2.0.0 (from openai-whisper==20240930)\n",
            "  Downloading triton-3.0.0-1-cp310-cp310-manylinux2014_x86_64.manylinux_2_17_x86_64.whl.metadata (1.3 kB)\n",
            "Requirement already satisfied: filelock in /usr/local/lib/python3.10/dist-packages (from triton>=2.0.0->openai-whisper==20240930) (3.16.1)\n",
            "Requirement already satisfied: llvmlite<0.44,>=0.43.0dev0 in /usr/local/lib/python3.10/dist-packages (from numba->openai-whisper==20240930) (0.43.0)\n",
            "Requirement already satisfied: regex>=2022.1.18 in /usr/local/lib/python3.10/dist-packages (from tiktoken->openai-whisper==20240930) (2024.9.11)\n",
            "Requirement already satisfied: requests>=2.26.0 in /usr/local/lib/python3.10/dist-packages (from tiktoken->openai-whisper==20240930) (2.32.3)\n",
            "Requirement already satisfied: typing-extensions>=4.8.0 in /usr/local/lib/python3.10/dist-packages (from torch->openai-whisper==20240930) (4.12.2)\n",
            "Requirement already satisfied: sympy in /usr/local/lib/python3.10/dist-packages (from torch->openai-whisper==20240930) (1.13.3)\n",
            "Requirement already satisfied: networkx in /usr/local/lib/python3.10/dist-packages (from torch->openai-whisper==20240930) (3.3)\n",
            "Requirement already satisfied: jinja2 in /usr/local/lib/python3.10/dist-packages (from torch->openai-whisper==20240930) (3.1.4)\n",
            "Requirement already satisfied: fsspec in /usr/local/lib/python3.10/dist-packages (from torch->openai-whisper==20240930) (2024.6.1)\n",
            "Requirement already satisfied: charset-normalizer<4,>=2 in /usr/local/lib/python3.10/dist-packages (from requests>=2.26.0->tiktoken->openai-whisper==20240930) (3.3.2)\n",
            "Requirement already satisfied: idna<4,>=2.5 in /usr/local/lib/python3.10/dist-packages (from requests>=2.26.0->tiktoken->openai-whisper==20240930) (3.10)\n",
            "Requirement already satisfied: urllib3<3,>=1.21.1 in /usr/local/lib/python3.10/dist-packages (from requests>=2.26.0->tiktoken->openai-whisper==20240930) (2.2.3)\n",
            "Requirement already satisfied: certifi>=2017.4.17 in /usr/local/lib/python3.10/dist-packages (from requests>=2.26.0->tiktoken->openai-whisper==20240930) (2024.8.30)\n",
            "Requirement already satisfied: MarkupSafe>=2.0 in /usr/local/lib/python3.10/dist-packages (from jinja2->torch->openai-whisper==20240930) (2.1.5)\n",
            "Requirement already satisfied: mpmath<1.4,>=1.1.0 in /usr/local/lib/python3.10/dist-packages (from sympy->torch->openai-whisper==20240930) (1.3.0)\n",
            "Downloading triton-3.0.0-1-cp310-cp310-manylinux2014_x86_64.manylinux_2_17_x86_64.whl (209.4 MB)\n",
            "\u001b[2K   \u001b[90m━━━━━━━━━━━━━━━━━━━━━━━━━━━━━━━━━━━━━━━━\u001b[0m \u001b[32m209.4/209.4 MB\u001b[0m \u001b[31m6.2 MB/s\u001b[0m eta \u001b[36m0:00:00\u001b[0m\n",
            "\u001b[?25hDownloading tiktoken-0.8.0-cp310-cp310-manylinux_2_17_x86_64.manylinux2014_x86_64.whl (1.2 MB)\n",
            "\u001b[2K   \u001b[90m━━━━━━━━━━━━━━━━━━━━━━━━━━━━━━━━━━━━━━━━\u001b[0m \u001b[32m1.2/1.2 MB\u001b[0m \u001b[31m54.4 MB/s\u001b[0m eta \u001b[36m0:00:00\u001b[0m\n",
            "\u001b[?25hBuilding wheels for collected packages: openai-whisper\n",
            "  Building wheel for openai-whisper (pyproject.toml) ... \u001b[?25l\u001b[?25hdone\n",
            "  Created wheel for openai-whisper: filename=openai_whisper-20240930-py3-none-any.whl size=803321 sha256=80c589f1e1c10d756486557d183982e4ef525ad6f889fa2f304e8bc1d9374dfe\n",
            "  Stored in directory: /tmp/pip-ephem-wheel-cache-7bfips9o/wheels/8b/6c/d0/622666868c179f156cf595c8b6f06f88bc5d80c4b31dccaa03\n",
            "Successfully built openai-whisper\n",
            "Installing collected packages: triton, tiktoken, openai-whisper\n",
            "Successfully installed openai-whisper-20240930 tiktoken-0.8.0 triton-3.0.0\n",
            "Requirement already satisfied: opencv-python-headless in /usr/local/lib/python3.10/dist-packages (4.10.0.84)\n",
            "Requirement already satisfied: numpy>=1.21.2 in /usr/local/lib/python3.10/dist-packages (from opencv-python-headless) (1.26.4)\n"
          ]
        }
      ]
    },
    {
      "cell_type": "markdown",
      "source": [
        "### Import Libraries\n",
        "\n",
        "We will import the required libraries."
      ],
      "metadata": {
        "id": "Fq3UqVLl4NFW"
      }
    },
    {
      "cell_type": "code",
      "source": [
        "import numpy as np\n",
        "import torch\n",
        "import whisper\n",
        "import cv2\n",
        "import os\n",
        "import random\n",
        "import string\n",
        "import matplotlib.pyplot as plt\n",
        "import numpy as np"
      ],
      "metadata": {
        "id": "VcFmok8p4RLm"
      },
      "execution_count": null,
      "outputs": []
    },
    {
      "cell_type": "markdown",
      "source": [
        "## Load Models\n",
        "\n",
        "### Load Whisper Model\n",
        "\n",
        "\n",
        "We will load the Whisper model for audio transcription.\n"
      ],
      "metadata": {
        "id": "1jK6GQku4Vtm"
      }
    },
    {
      "cell_type": "code",
      "source": [
        "# Load Whisper model\n",
        "whisper_model = whisper.load_model(\"small\")"
      ],
      "metadata": {
        "colab": {
          "base_uri": "https://localhost:8080/"
        },
        "id": "-JsqS7q64ZNN",
        "outputId": "51d814af-b1a8-4445-e7fd-48568e2e50c7"
      },
      "execution_count": null,
      "outputs": [
        {
          "output_type": "stream",
          "name": "stderr",
          "text": [
            "100%|███████████████████████████████████████| 461M/461M [00:07<00:00, 63.8MiB/s]\n",
            "/usr/local/lib/python3.10/dist-packages/whisper/__init__.py:150: FutureWarning: You are using `torch.load` with `weights_only=False` (the current default value), which uses the default pickle module implicitly. It is possible to construct malicious pickle data which will execute arbitrary code during unpickling (See https://github.com/pytorch/pytorch/blob/main/SECURITY.md#untrusted-models for more details). In a future release, the default value for `weights_only` will be flipped to `True`. This limits the functions that could be executed during unpickling. Arbitrary objects will no longer be allowed to be loaded via this mode unless they are explicitly allowlisted by the user via `torch.serialization.add_safe_globals`. We recommend you start setting `weights_only=True` for any use case where you don't have full control of the loaded file. Please open an issue on GitHub for any issues related to this experimental feature.\n",
            "  checkpoint = torch.load(fp, map_location=device)\n"
          ]
        }
      ]
    },
    {
      "cell_type": "markdown",
      "source": [
        "### Load YOLOv5 Model\n",
        "\n",
        "Next, we load the YOLOv5 model for object detection."
      ],
      "metadata": {
        "id": "dU11_-d34hvW"
      }
    },
    {
      "cell_type": "code",
      "source": [
        "try:\n",
        "    model = torch.hub.load('ultralytics/yolov5', 'yolov5s')\n",
        "    print(\"YOLOv5 loaded successfully.\")\n",
        "except Exception as e:\n",
        "    print(f\"Error loading YOLOv5: {e}\")"
      ],
      "metadata": {
        "id": "rV-lOKSM4fEO",
        "colab": {
          "base_uri": "https://localhost:8080/"
        },
        "outputId": "c33d9130-7e1f-4818-a8ad-240e371219c5"
      },
      "execution_count": null,
      "outputs": [
        {
          "output_type": "stream",
          "name": "stderr",
          "text": [
            "/usr/local/lib/python3.10/dist-packages/torch/hub.py:295: UserWarning: You are about to download and run code from an untrusted repository. In a future release, this won't be allowed. To add the repository to your trusted list, change the command to {calling_fn}(..., trust_repo=False) and a command prompt will appear asking for an explicit confirmation of trust, or load(..., trust_repo=True), which will assume that the prompt is to be answered with 'yes'. You can also use load(..., trust_repo='check') which will only prompt for confirmation if the repo is not already trusted. This will eventually be the default behaviour\n",
            "  warnings.warn(\n",
            "Downloading: \"https://github.com/ultralytics/yolov5/zipball/master\" to /root/.cache/torch/hub/master.zip\n"
          ]
        },
        {
          "output_type": "stream",
          "name": "stdout",
          "text": [
            "Creating new Ultralytics Settings v0.0.6 file ✅ \n",
            "View Ultralytics Settings with 'yolo settings' or at '/root/.config/Ultralytics/settings.json'\n",
            "Update Settings with 'yolo settings key=value', i.e. 'yolo settings runs_dir=path/to/dir'. For help see https://docs.ultralytics.com/quickstart/#ultralytics-settings.\n",
            "\u001b[31m\u001b[1mrequirements:\u001b[0m Ultralytics requirement ['gitpython>=3.1.30'] not found, attempting AutoUpdate...\n",
            "Collecting gitpython>=3.1.30\n",
            "  Downloading GitPython-3.1.43-py3-none-any.whl.metadata (13 kB)\n",
            "Collecting gitdb<5,>=4.0.1 (from gitpython>=3.1.30)\n",
            "  Downloading gitdb-4.0.11-py3-none-any.whl.metadata (1.2 kB)\n",
            "Collecting smmap<6,>=3.0.1 (from gitdb<5,>=4.0.1->gitpython>=3.1.30)\n",
            "  Downloading smmap-5.0.1-py3-none-any.whl.metadata (4.3 kB)\n",
            "Downloading GitPython-3.1.43-py3-none-any.whl (207 kB)\n",
            "   ━━━━━━━━━━━━━━━━━━━━━━━━━━━━━━━━━━━━━━━━ 207.3/207.3 kB 5.7 MB/s eta 0:00:00\n",
            "Downloading gitdb-4.0.11-py3-none-any.whl (62 kB)\n",
            "   ━━━━━━━━━━━━━━━━━━━━━━━━━━━━━━━━━━━━━━━━ 62.7/62.7 kB 151.1 MB/s eta 0:00:00\n",
            "Downloading smmap-5.0.1-py3-none-any.whl (24 kB)\n",
            "Installing collected packages: smmap, gitdb, gitpython\n",
            "Successfully installed gitdb-4.0.11 gitpython-3.1.43 smmap-5.0.1\n",
            "\n",
            "\u001b[31m\u001b[1mrequirements:\u001b[0m AutoUpdate success ✅ 5.9s, installed 1 package: ['gitpython>=3.1.30']\n",
            "\u001b[31m\u001b[1mrequirements:\u001b[0m ⚠️ \u001b[1mRestart runtime or rerun command for updates to take effect\u001b[0m\n",
            "\n"
          ]
        },
        {
          "output_type": "stream",
          "name": "stderr",
          "text": [
            "YOLOv5 🚀 2024-10-12 Python-3.10.12 torch-2.4.1+cu121 CPU\n",
            "\n",
            "Downloading https://github.com/ultralytics/yolov5/releases/download/v7.0/yolov5s.pt to yolov5s.pt...\n",
            "100%|██████████| 14.1M/14.1M [00:00<00:00, 123MB/s]\n",
            "\n",
            "Fusing layers... \n",
            "YOLOv5s summary: 213 layers, 7225885 parameters, 0 gradients, 16.4 GFLOPs\n",
            "Adding AutoShape... \n"
          ]
        },
        {
          "output_type": "stream",
          "name": "stdout",
          "text": [
            "YOLOv5 loaded successfully.\n"
          ]
        }
      ]
    },
    {
      "cell_type": "markdown",
      "source": [
        "## Helper Functions\n",
        "\n",
        "### Generate Unique Color Function\n",
        "\n",
        "This function generates a distinct color for each detected object."
      ],
      "metadata": {
        "id": "ldXfXi-44oIP"
      }
    },
    {
      "cell_type": "code",
      "source": [
        "def generate_unique_color(existing_colors):\n",
        "    \"\"\"Generates a distinct color by selecting from a set of predefined, widely separated colors.\"\"\"\n",
        "    distinct_colors = [\n",
        "        (255, 0, 0), (0, 255, 0), (0, 0, 255), (255, 255, 0), (255, 0, 255),\n",
        "        (0, 255, 255), (128, 0, 128), (128, 128, 0), (0, 128, 128), (255, 165, 0)\n",
        "    ]\n",
        "\n",
        "    random.shuffle(distinct_colors)\n",
        "\n",
        "    for color in distinct_colors:\n",
        "        if color not in existing_colors:\n",
        "            return color\n",
        "\n",
        "    # Fallback to random if we run out of distinct colors (unlikely in typical object detection)\n",
        "    return tuple(random.randint(0, 255) for _ in range(3))"
      ],
      "metadata": {
        "id": "4WoLGZ-h4rgV"
      },
      "execution_count": null,
      "outputs": []
    },
    {
      "cell_type": "markdown",
      "source": [
        "### Object Ids for YOLO"
      ],
      "metadata": {
        "id": "mpWzv2urIwxZ"
      }
    },
    {
      "cell_type": "code",
      "source": [
        "german_to_id = {\n",
        "    0: \"Person\",\n",
        "    1: \"Fahrrad\",\n",
        "    2: \"Auto\",\n",
        "    3: \"Motorrad\",\n",
        "    4: \"Flugzeug\",\n",
        "    5: \"Bus\",\n",
        "    6: \"Zug\",\n",
        "    7: \"Lastwagen\",\n",
        "    8: \"Boot\",\n",
        "    9: \"Ampel\",\n",
        "    10: \"Hydrant\",\n",
        "    11: \"Stoppschild\",\n",
        "    12: \"Parkuhr\",\n",
        "    13: \"Bank\",\n",
        "    14: \"Vogel\",\n",
        "    15: \"Katze\",\n",
        "    16: \"Hund\",\n",
        "    17: \"Pferd\",\n",
        "    18: \"Schaf\",\n",
        "    19: \"Kuh\",\n",
        "    20: \"Elefant\",\n",
        "    21: \"Bär\",\n",
        "    22: \"Zebra\",\n",
        "    23: \"Giraffe\",\n",
        "    24: \"Rucksack\",\n",
        "    25: \"Regenschirm\",\n",
        "    26: \"Handtasche\",\n",
        "    27: \"Krawatte\",\n",
        "    28: \"Koffer\",\n",
        "    29: \"Frisbee\",\n",
        "    30: \"Ski\",\n",
        "    31: \"Snowboard\",\n",
        "    32: \"Sportball\",\n",
        "    33: \"Drachen\",\n",
        "    34: \"Baseballschläger\",\n",
        "    35: \"Baseballhandschuh\",\n",
        "    36: \"Skateboard\",\n",
        "    37: \"Surfbretter\",\n",
        "    38: \"Tennisschläger\",\n",
        "    39: \"Flasche\",\n",
        "    40: \"Weinglas\",\n",
        "    41: \"Tasse\",\n",
        "    42: \"Gabel\",\n",
        "    43: \"Messer\",\n",
        "    44: \"Löffel\",\n",
        "    45: \"Schüssel\",\n",
        "    46: \"Banane\",\n",
        "    47: \"Apfel\",\n",
        "    48: \"Sandwich\",\n",
        "    49: \"Orange\",\n",
        "    50: \"Brokkoli\",\n",
        "    51: \"Karotte\",\n",
        "    52: \"Hotdog\",\n",
        "    53: \"Pizza\",\n",
        "    54: \"Donut\",\n",
        "    55: \"Kuchen\",\n",
        "    56: \"Stuhl\",\n",
        "    57: \"Sofa\",\n",
        "    58: \"Blumentopf\",\n",
        "    59: \"Bett\",\n",
        "    60: \"Esstisch\",\n",
        "    61: \"Toilette\",\n",
        "    62: \"Fernseher\",\n",
        "    63: \"Laptop\",\n",
        "    64: \"Maus\",\n",
        "    65: \"Fernbedienung\",\n",
        "    66: \"Tastatur\",\n",
        "    67: \"Handy\",\n",
        "    68: \"Mikrowelle\",\n",
        "    69: \"Ofen\",\n",
        "    70: \"Toaster\",\n",
        "    71: \"Spüle\",\n",
        "    72: \"Kühlschrank\",\n",
        "    73: \"Buch\",\n",
        "    74: \"Uhr\",\n",
        "    75: \"Vase\",\n",
        "    76: \"Schere\",\n",
        "    77: \"Teddybär\",\n",
        "    78: \"Haartrockner\",\n",
        "    79: \"Zahnbürste\"\n",
        "}"
      ],
      "metadata": {
        "id": "tlEz28IBIwjZ"
      },
      "execution_count": null,
      "outputs": []
    },
    {
      "cell_type": "markdown",
      "source": [
        "### Detect Objects Function\n",
        "\n",
        "This function handles the object detection process in an image based on the transcribed audio text."
      ],
      "metadata": {
        "id": "O1wNrKhZ4shv"
      }
    },
    {
      "cell_type": "code",
      "source": [
        "def detect_objects(image_path, german_text):\n",
        "    # Load image\n",
        "    img = cv2.imread(image_path)\n",
        "    img_rgb = cv2.cvtColor(img, cv2.COLOR_BGR2RGB)\n",
        "\n",
        "    # Perform detection\n",
        "    with torch.no_grad():\n",
        "        results = model(img_rgb)\n",
        "\n",
        "    # Convert results to a Pandas DataFrame\n",
        "    df = results.pandas().xyxy[0]\n",
        "\n",
        "    object_ids = []\n",
        "    detected_objects = []\n",
        "    confidences = []\n",
        "    object_colors = {}  # Dictionary to hold colors for each detected label\n",
        "\n",
        "    german_text_cleaned = german_text.translate(str.maketrans('', '', string.punctuation))\n",
        "\n",
        "    # Identify object IDs based on German text\n",
        "    for word in german_text_cleaned.split():\n",
        "        for key, value in german_to_id.items():\n",
        "            if word.lower() == value.lower():\n",
        "                object_ids.append(key)\n",
        "\n",
        "    # Iterate over detected objects\n",
        "    for _, row in df.iterrows():\n",
        "        if int(row['class']) in object_ids:\n",
        "            x1, y1, x2, y2 = int(row['xmin']), int(row['ymin']), int(row['xmax']), int(row['ymax'])\n",
        "            label = german_to_id[int(row['class'])]\n",
        "            confidence = row['confidence']\n",
        "\n",
        "            # Check if the color for the label has already been assigned\n",
        "            if label not in object_colors:\n",
        "                # Assign a unique color to the label\n",
        "                object_colors[label] = generate_unique_color(object_colors.values())\n",
        "\n",
        "            color = object_colors[label]  # Use the assigned color for drawing\n",
        "\n",
        "            # Draw the rectangle and label with the matching color\n",
        "            cv2.rectangle(img, (x1, y1), (x2, y2), color, 2)\n",
        "            cv2.putText(img, f\"{label}: {confidence:.2f}\", (x1, y1 - 10),\n",
        "                        cv2.FONT_HERSHEY_SIMPLEX, 0.5, color, 2)\n",
        "\n",
        "            detected_objects.append(label)\n",
        "            confidences.append(confidence)\n",
        "\n",
        "    # Save the detected image\n",
        "    detected_image_path = \"detected_\" + os.path.basename(image_path)\n",
        "    cv2.imwrite(detected_image_path, img)\n",
        "\n",
        "    # Serialize the colors to JSON-friendly format (tuple to list)\n",
        "    object_colors_serialized = {label: list(color) for label, color in object_colors.items()}\n",
        "    return detected_image_path, detected_objects, confidences, object_colors_serialized"
      ],
      "metadata": {
        "id": "phx8Y6H54s5t"
      },
      "execution_count": null,
      "outputs": []
    },
    {
      "cell_type": "markdown",
      "source": [
        "## Transcribing Audio\n",
        "\n",
        "### Function to Transcribe Audio\n",
        "\n",
        "This function processes the uploaded audio file and returns the transcribed text and overall confidence score."
      ],
      "metadata": {
        "id": "h9rYAF2g402m"
      }
    },
    {
      "cell_type": "code",
      "source": [
        "def transcribe_audio(audio_filepath):\n",
        "    transcript = \"\"\n",
        "    overall_confidence = 0\n",
        "\n",
        "    try:\n",
        "        # Audio transcription\n",
        "        result = whisper_model.transcribe(audio_filepath, language='de')\n",
        "        transcript = result['text']\n",
        "        total_confidence = sum([1 - seg['no_speech_prob'] for seg in result['segments']])\n",
        "        overall_confidence = total_confidence / len(result['segments']) if result['segments'] else 0\n",
        "    except Exception as e:\n",
        "        print(f\"Failed to process the audio file: {str(e)}\")\n",
        "    finally:\n",
        "        os.remove(audio_filepath)\n",
        "\n",
        "    return transcript, overall_confidence"
      ],
      "metadata": {
        "id": "_JqixK-0430X"
      },
      "execution_count": null,
      "outputs": []
    },
    {
      "cell_type": "markdown",
      "source": [
        "## Main Process Function\n",
        "\n",
        "This function integrates the audio transcription and object detection."
      ],
      "metadata": {
        "id": "bf58P8EY479m"
      }
    },
    {
      "cell_type": "code",
      "source": [
        "def process_files(audio_file_path, image_file_path):\n",
        "    # Transcribe the audio file\n",
        "    transcript, overall_confidence = transcribe_audio(audio_file_path)\n",
        "\n",
        "    # Detect objects in the image\n",
        "    detected_img_path, objects, obj_accuracy, object_colors = detect_objects(image_file_path, transcript)\n",
        "\n",
        "    response = {\n",
        "        \"transcript\": transcript,\n",
        "        \"overall_average_confidence\": overall_confidence,\n",
        "        \"image_path\": detected_img_path,\n",
        "        \"object_detection\": objects,\n",
        "        \"object_confidences\": obj_accuracy,\n",
        "        \"object_colors\": object_colors\n",
        "    }\n",
        "\n",
        "    return response"
      ],
      "metadata": {
        "id": "iQy-YNdI49O2"
      },
      "execution_count": null,
      "outputs": []
    },
    {
      "cell_type": "markdown",
      "source": [
        "## Display Detected Image\n",
        "\n",
        "### Function to Show Detected Image\n",
        "\n",
        "This function displays the processed image using Matplotlib."
      ],
      "metadata": {
        "id": "NyqZG4Rn5_Rk"
      }
    },
    {
      "cell_type": "code",
      "source": [
        "def display_detected_image(image_path):\n",
        "    \"\"\"Display the detected image.\"\"\"\n",
        "    img = cv2.imread(image_path)\n",
        "    img_rgb = cv2.cvtColor(img, cv2.COLOR_BGR2RGB)\n",
        "\n",
        "    plt.figure(figsize=(10, 10))\n",
        "    plt.imshow(img_rgb)\n",
        "    plt.axis('off')  # Hide axes\n",
        "    plt.show()\n"
      ],
      "metadata": {
        "id": "aJLD7IRo52zJ"
      },
      "execution_count": null,
      "outputs": []
    },
    {
      "cell_type": "markdown",
      "source": [
        "## Usage Example\n",
        "\n",
        "### Uploading Files\n",
        "\n",
        "To test the functionality, upload your audio and image files."
      ],
      "metadata": {
        "id": "pFJ5Pg8c5BJN"
      }
    },
    {
      "cell_type": "code",
      "source": [
        "# Example paths for uploaded files\n",
        "audio_file_path = \"/content/6.wav\"\n",
        "image_file_path = \"/content/street.jpeg\"\n",
        "\n",
        "# Process the uploaded files\n",
        "response = process_files(audio_file_path, image_file_path)\n",
        "\n",
        "\n",
        "# Print the transcription and object detection results\n",
        "print(\"Transcription:\", response[\"transcript\"])\n",
        "print(\"Overall Average Confidence:\", response[\"overall_average_confidence\"])\n",
        "print(\"Detected Objects:\", response[\"object_detection\"])\n",
        "print(\"Object Confidences:\", response[\"object_confidences\"])"
      ],
      "metadata": {
        "id": "AAFfpbcI3a56",
        "colab": {
          "base_uri": "https://localhost:8080/"
        },
        "outputId": "a279ea13-3ce1-4a48-ae9c-7d70e1621802"
      },
      "execution_count": null,
      "outputs": [
        {
          "output_type": "stream",
          "name": "stderr",
          "text": [
            "/root/.cache/torch/hub/ultralytics_yolov5_master/models/common.py:892: FutureWarning: `torch.cuda.amp.autocast(args...)` is deprecated. Please use `torch.amp.autocast('cuda', args...)` instead.\n",
            "  with amp.autocast(autocast):\n"
          ]
        },
        {
          "output_type": "stream",
          "name": "stdout",
          "text": [
            "Transcription:  Markieren Sie bitte das Person, das Auto und die Straße.\n",
            "Overall Average Confidence: 0.947263952344656\n",
            "Detected Objects: ['Person', 'Auto', 'Auto', 'Auto', 'Auto']\n",
            "Object Confidences: [0.9233360290527344, 0.8531723022460938, 0.7288002967834473, 0.4638911485671997, 0.4148244559764862]\n"
          ]
        }
      ]
    },
    {
      "cell_type": "markdown",
      "source": [
        "### Display Image\n"
      ],
      "metadata": {
        "id": "dpOKaW3fLLeH"
      }
    },
    {
      "cell_type": "code",
      "source": [
        "# Read Image\n",
        "img = cv2.imread(response[\"image_path\"])\n",
        "# Convert it into RGP\n",
        "img_rgb = cv2.cvtColor(img, cv2.COLOR_BGR2RGB)\n",
        "\n",
        "img_rgb"
      ],
      "metadata": {
        "colab": {
          "base_uri": "https://localhost:8080/",
          "height": 223
        },
        "id": "T1tDJkZdJm9X",
        "outputId": "91fa2644-4286-4d08-8a38-86587fbc9bc4"
      },
      "execution_count": null,
      "outputs": [
        {
          "output_type": "execute_result",
          "data": {
            "text/plain": [
              "array([[[ 11,  11,  11],\n",
              "        [ 13,  13,  13],\n",
              "        [ 15,  15,  15],\n",
              "        ...,\n",
              "        [162, 154, 151],\n",
              "        [157, 148, 143],\n",
              "        [151, 142, 137]],\n",
              "\n",
              "       [[  5,   5,   5],\n",
              "        [  3,   3,   3],\n",
              "        [  3,   3,   3],\n",
              "        ...,\n",
              "        [159, 151, 148],\n",
              "        [156, 147, 142],\n",
              "        [152, 143, 138]],\n",
              "\n",
              "       [[ 11,  11,  11],\n",
              "        [  4,   4,   4],\n",
              "        [  0,   0,   0],\n",
              "        ...,\n",
              "        [154, 146, 143],\n",
              "        [153, 144, 139],\n",
              "        [152, 143, 138]],\n",
              "\n",
              "       ...,\n",
              "\n",
              "       [[125, 127, 126],\n",
              "        [124, 126, 125],\n",
              "        [123, 125, 124],\n",
              "        ...,\n",
              "        [170, 165, 162],\n",
              "        [170, 165, 162],\n",
              "        [170, 165, 162]],\n",
              "\n",
              "       [[122, 124, 123],\n",
              "        [122, 124, 123],\n",
              "        [122, 124, 123],\n",
              "        ...,\n",
              "        [169, 161, 159],\n",
              "        [167, 162, 159],\n",
              "        [167, 162, 159]],\n",
              "\n",
              "       [[119, 121, 120],\n",
              "        [120, 122, 121],\n",
              "        [120, 122, 121],\n",
              "        ...,\n",
              "        [167, 159, 157],\n",
              "        [165, 160, 157],\n",
              "        [165, 160, 157]]], dtype=uint8)"
            ],
            "text/html": [
              "<style>\n",
              "      .ndarray_repr .ndarray_raw_data {\n",
              "        display: none;\n",
              "      }\n",
              "      .ndarray_repr.show_array .ndarray_raw_data {\n",
              "        display: block;\n",
              "      }\n",
              "      .ndarray_repr.show_array .ndarray_image_preview {\n",
              "        display: none;\n",
              "      }\n",
              "      </style>\n",
              "      <div id=\"id-5d26abba-5f64-44f3-84ca-a0ddc3d1c908\" class=\"ndarray_repr\"><pre>ndarray (183, 275, 3) <button style=\"padding: 0 2px;\">show data</button></pre><img src=\"data:image/png;base64,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\" class=\"ndarray_image_preview\" /><pre class=\"ndarray_raw_data\">array([[[ 11,  11,  11],\n",
              "        [ 13,  13,  13],\n",
              "        [ 15,  15,  15],\n",
              "        ...,\n",
              "        [162, 154, 151],\n",
              "        [157, 148, 143],\n",
              "        [151, 142, 137]],\n",
              "\n",
              "       [[  5,   5,   5],\n",
              "        [  3,   3,   3],\n",
              "        [  3,   3,   3],\n",
              "        ...,\n",
              "        [159, 151, 148],\n",
              "        [156, 147, 142],\n",
              "        [152, 143, 138]],\n",
              "\n",
              "       [[ 11,  11,  11],\n",
              "        [  4,   4,   4],\n",
              "        [  0,   0,   0],\n",
              "        ...,\n",
              "        [154, 146, 143],\n",
              "        [153, 144, 139],\n",
              "        [152, 143, 138]],\n",
              "\n",
              "       ...,\n",
              "\n",
              "       [[125, 127, 126],\n",
              "        [124, 126, 125],\n",
              "        [123, 125, 124],\n",
              "        ...,\n",
              "        [170, 165, 162],\n",
              "        [170, 165, 162],\n",
              "        [170, 165, 162]],\n",
              "\n",
              "       [[122, 124, 123],\n",
              "        [122, 124, 123],\n",
              "        [122, 124, 123],\n",
              "        ...,\n",
              "        [169, 161, 159],\n",
              "        [167, 162, 159],\n",
              "        [167, 162, 159]],\n",
              "\n",
              "       [[119, 121, 120],\n",
              "        [120, 122, 121],\n",
              "        [120, 122, 121],\n",
              "        ...,\n",
              "        [167, 159, 157],\n",
              "        [165, 160, 157],\n",
              "        [165, 160, 157]]], dtype=uint8)</pre></div><script>\n",
              "      (() => {\n",
              "      const titles = ['show data', 'hide data'];\n",
              "      let index = 0\n",
              "      document.querySelector('#id-5d26abba-5f64-44f3-84ca-a0ddc3d1c908 button').onclick = (e) => {\n",
              "        document.querySelector('#id-5d26abba-5f64-44f3-84ca-a0ddc3d1c908').classList.toggle('show_array');\n",
              "        index = (++index) % 2;\n",
              "        document.querySelector('#id-5d26abba-5f64-44f3-84ca-a0ddc3d1c908 button').textContent = titles[index];\n",
              "        e.preventDefault();\n",
              "        e.stopPropagation();\n",
              "      }\n",
              "      })();\n",
              "    </script>"
            ]
          },
          "metadata": {},
          "execution_count": 29
        }
      ]
    },
    {
      "cell_type": "markdown",
      "source": [
        "# **Real-Time Audio Transcription with Flask and Colab**\n",
        "\n",
        "This notebook demonstrates how to capture audio, send it to a server in 2-second chunks, and receive real-time transcriptions. Since Colab does not have direct access to your microphone, audio needs to be recorded locally, uploaded, and sent in chunks for transcription.\n",
        "\n",
        "## **Step 1: Install Necessary Libraries**\n",
        "We'll need the following libraries:\n",
        "- `requests`: For sending audio data to the server.\n",
        "- `io` and `wave`: To handle the audio file conversions.\n",
        "\n",
        "```python\n",
        "# Install necessary libraries\n",
        "!pip install requests sounddevice scipy\n"
      ],
      "metadata": {
        "id": "gPfnZc65Ez6J"
      }
    },
    {
      "cell_type": "markdown",
      "source": [
        "## **Set Up the Flask Server Locally**\n",
        "Before we can send audio data for transcription, we need to set up a Flask server that processes the audio data and returns the transcription.\n",
        "\n",
        "**Instructions:**\n",
        "1. Run the Flask server on your local machine (or host it on a cloud platform like Heroku).\n",
        "2. The server will accept audio data in 2-second chunks, process it, and return a transcription using a speech recognition engine.\n",
        "\n",
        "### Flask Server Code (To run locally or on a cloud platform):\n",
        "Save this code in a Python file (e.g., `app.py`) and run it on your local machine.\n"
      ],
      "metadata": {
        "id": "uSQ0i2UjFhC5"
      }
    },
    {
      "cell_type": "code",
      "source": [
        "from flask import Flask, request, jsonify\n",
        "from flask_cors import CORS\n",
        "import speech_recognition as sr\n",
        "import wave\n",
        "import io\n",
        "\n",
        "app = Flask(__name__)\n",
        "CORS(app)\n",
        "#assume you have the model whisper as 'whisper_model'\n",
        "\n",
        "\n",
        "@app.route(\"/transcribe_chunk\", methods=[\"POST\"])\n",
        "def transcribe_chunk():\n",
        "    audio_file = request.files.get('audio')\n",
        "\n",
        "    if audio_file is None:\n",
        "        return jsonify({'error': 'No audio file provided'}), 400\n",
        "\n",
        "    try:\n",
        "        audio_path = os.path.join(UPLOAD_FOLDER, \"temp_audio_chunk.wav\")\n",
        "        audio_file.save(audio_path)\n",
        "\n",
        "        segments = whisper_model.transcribe(audio_path, language='de')\n",
        "        transcription = segments['text']\n",
        "\n",
        "        os.remove(audio_path)  # Clean up the temporary file\n",
        "\n",
        "        return jsonify({'transcription': transcription}), 200\n",
        "    except Exception as e:\n",
        "        return jsonify({'error': str(e)}), 500\n",
        "\n",
        "if __name__ == \"__main__\":\n",
        "    app.run(debug=True)\n"
      ],
      "metadata": {
        "id": "_LVJRLA0FxVi"
      },
      "execution_count": null,
      "outputs": []
    },
    {
      "cell_type": "markdown",
      "source": [
        "### To run the server:\n",
        "1. Install Flask and Flask-CORS:\n",
        "   ```bash\n",
        "   pip install flask flask-cors\n",
        "   ```\n",
        "\n",
        "2. Run the Flask server:\n",
        "   ```bash\n",
        "   python app.py\n",
        "   ```\n",
        "\n",
        "   This will start a server locally at `http://localhost:5000` and listen for incoming audio chunks.\n"
      ],
      "metadata": {
        "id": "ffVwvu2KFzhy"
      }
    },
    {
      "cell_type": "markdown",
      "source": [
        "\n",
        "## **Upload Audio Chunks to the Colab Notebook**\n",
        "\n",
        "In this section, we will simulate real-time audio chunk uploads. Since Colab cannot access your microphone directly, you'll need to record audio locally and upload it.\n",
        "\n",
        "We can process the uploaded file and send 4-second chunks to the Flask server."
      ],
      "metadata": {
        "id": "qcOYzbmqGLG6"
      }
    },
    {
      "cell_type": "code",
      "source": [
        "import sounddevice as sd\n",
        "import numpy as np\n",
        "import requests\n",
        "import wave\n",
        "import io\n",
        "import threading\n",
        "import queue\n",
        "import time\n",
        "\n",
        "# Configuration\n",
        "SAMPLE_RATE = 16000  # Sample rate for audio recording\n",
        "CHUNK_DURATION = 4  # Duration of each chunk in seconds\n",
        "SERVER_URL = \"http://localhost:5000/transcribe_chunk\"  # Server URL\n",
        "SAMPLE_WIDTH = 2  # Bytes per sample (16-bit audio)\n",
        "\n",
        "# Queue to hold audio chunks to be sent\n",
        "audio_queue = queue.Queue()\n",
        "\n",
        "def record_audio_stream(q, chunk_duration, sample_rate):\n",
        "    \"\"\"Continuously record audio and place chunks into the queue.\"\"\"\n",
        "    chunk_size = int(chunk_duration * sample_rate)\n",
        "    print(\"Starting to record audio...\")\n",
        "\n",
        "    def callback(indata, frames, time, status):\n",
        "        if status:\n",
        "            print(f\"Recording error: {status}\")\n",
        "        # Put the audio data into the queue in chunks\n",
        "        q.put(indata.copy())\n",
        "\n",
        "    # Start non-blocking recording\n",
        "    with sd.InputStream(samplerate=sample_rate, channels=1, dtype='float32', blocksize=chunk_size, callback=callback):\n",
        "        while True:\n",
        "            time.sleep(0.1)  # Keep the main thread alive\n",
        "\n",
        "def save_audio_to_wav(audio_data, sample_rate):\n",
        "    \"\"\"Save the recorded audio chunk to a WAV format in memory.\"\"\"\n",
        "    byte_io = io.BytesIO()\n",
        "    with wave.open(byte_io, 'wb') as wav_file:\n",
        "        wav_file.setnchannels(1)  # Mono\n",
        "        wav_file.setsampwidth(SAMPLE_WIDTH)  # 16-bit audio\n",
        "        wav_file.setframerate(sample_rate)\n",
        "        # Convert from float32 (-1.0 to 1.0) to int16 (-32768 to 32767)\n",
        "        wav_file.writeframes((audio_data * 32767).astype(np.int16).tobytes())\n",
        "    byte_io.seek(0)\n",
        "    return byte_io\n",
        "\n",
        "def send_audio_chunk_to_server(audio_chunk, sample_rate):\n",
        "    \"\"\"Send the audio chunk to the server.\"\"\"\n",
        "    wav_io = save_audio_to_wav(audio_chunk, sample_rate)\n",
        "\n",
        "    try:\n",
        "        files = {'audio': ('chunk.wav', wav_io, 'audio/wav')}\n",
        "        response = requests.post(SERVER_URL, files=files)\n",
        "        if response.ok:\n",
        "            transcription = response.json().get('transcription', '')\n",
        "            print(f\"Transcription: {transcription}\")\n",
        "        else:\n",
        "            print(f\"Server error: {response.status_code}\")\n",
        "    except Exception as e:\n",
        "        print(f\"Failed to send audio chunk: {str(e)}\")\n",
        "\n",
        "def process_audio_chunks(q):\n",
        "    \"\"\"Continuously process audio chunks from the queue and send them to the server.\"\"\"\n",
        "    while True:\n",
        "        audio_chunk = q.get()\n",
        "        if audio_chunk is None:\n",
        "            break  # Exit when None is received\n",
        "        send_audio_chunk_to_server(audio_chunk, SAMPLE_RATE)\n",
        "        q.task_done()\n",
        "\n",
        "def main():\n",
        "    # Start the thread that sends audio chunks to the server\n",
        "    threading.Thread(target=process_audio_chunks, args=(audio_queue,), daemon=True).start()\n",
        "\n",
        "    # Start recording audio and queuing chunks\n",
        "    record_audio_stream(audio_queue, CHUNK_DURATION, SAMPLE_RATE)\n",
        "\n",
        "if __name__ == \"__main__\":\n",
        "    try:\n",
        "        print(\"Press Ctrl+C to stop recording...\")\n",
        "        main()\n",
        "    except KeyboardInterrupt:\n",
        "        print(\"Recording stopped.\")\n"
      ],
      "metadata": {
        "id": "oRdc5nmYGgWk"
      },
      "execution_count": null,
      "outputs": []
    },
    {
      "cell_type": "markdown",
      "source": [
        "### Explanation:\n",
        "1. **`send_audio_chunk_to_server`**: This function sends each 2-second chunk of audio to the Flask server and receives the transcription.\n",
        "2. **`simulate_audio_chunk_upload`**: This function simulates how audio is recorded locally in chunks and uploads it to the server.\n",
        "\n"
      ],
      "metadata": {
        "id": "azt9ryFBGqyp"
      }
    },
    {
      "cell_type": "markdown",
      "source": [
        "## **Real-Time Display of Transcriptions**\n",
        "\n",
        "After sending the chunks to the server, you will receive real-time transcriptions that will be displayed in your notebook.\n"
      ],
      "metadata": {
        "id": "dpyX00uwGz7J"
      }
    },
    {
      "cell_type": "markdown",
      "source": [
        "### Conclusion:\n",
        "\n",
        "- **Colab Limitations**: Since Colab cannot access your microphone directly, this notebook simulates real-time transcription using pre-recorded audio.\n",
        "- **Running the Flask Server**: Make sure your Flask server is running locally or on a cloud platform to handle incoming audio chunks.\n",
        "- **Next Steps**: You can modify the notebook to handle different audio formats and explore more advanced transcription methods using different speech recognition engines.\n",
        "```\n",
        "\n",
        "---"
      ],
      "metadata": {
        "id": "W-6xvhfMG4L5"
      }
    },
    {
      "cell_type": "markdown",
      "source": [
        "### Key Points:\n",
        "\n",
        "- **Flask Server**: The server must be running either on your local machine or on a remote cloud server.\n",
        "- **Colab Audio Simulation**: Since Colab cannot directly record audio from your microphone, you should try it on your localhost for the best experiance.\n",
        "- **Real-Time Chunks**: Each audio chunk (2 seconds long) is sent to the server for transcription in real-time.\n",
        "\n",
        "By using this structured Colab notebook, you can build a real-time transcription pipeline, splitting audio into manageable chunks and processing them with speech recognition services."
      ],
      "metadata": {
        "id": "mE_OxuQKG7gh"
      }
    },
    {
      "cell_type": "markdown",
      "source": [
        "\n",
        "## Conclusion\n",
        "\n",
        "This notebook demonstrates how to use the Whisper model for audio transcription and YOLOv5 for object detection based on the transcribed audio. You can adapt and extend this code for more complex applications or integrate it into a web application using Flask with additional feature to be used on the localhost for trying real time transcription.\n",
        "\n",
        "Check the repo on github that includes all samples and a simple react deployment for the full project.\n",
        "[GitHub ASR-OBD](https://github.com/kendor74/ASR-Object-Selection)\n",
        "\n",
        "---"
      ],
      "metadata": {
        "id": "_AFQx11X5Q99"
      }
    }
  ]
}